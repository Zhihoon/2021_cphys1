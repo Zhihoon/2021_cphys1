{
 "cells": [
  {
   "cell_type": "code",
   "execution_count": 58,
   "metadata": {},
   "outputs": [
    {
     "name": "stdout",
     "output_type": "stream",
     "text": [
      "#1\n"
     ]
    },
    {
     "data": {
      "text/plain": [
       "((array([ 1., -1.]),\n",
       "  array([[ 0.70710678, -0.70710678],\n",
       "         [ 0.70710678,  0.70710678]])),\n",
       " (array([ 1.+0.j, -1.+0.j]),\n",
       "  array([[-0.        -0.70710678j,  0.70710678+0.j        ],\n",
       "         [ 0.70710678+0.j        ,  0.        -0.70710678j]])),\n",
       " (array([ 1., -1.]),\n",
       "  array([[1., 0.],\n",
       "         [0., 1.]])))"
      ]
     },
     "execution_count": 58,
     "metadata": {},
     "output_type": "execute_result"
    }
   ],
   "source": [
    "%matplotlib inline\n",
    "import matplotlib.pyplot as plt\n",
    "import numpy as np\n",
    "\n",
    "sx=np.array([[0,1],[1,0]])\n",
    "ex=np.linalg.eig(sx)\n",
    "\n",
    "sy=np.array([[0,complex(0,-1)],[complex(0,1),0]])\n",
    "ey=np.linalg.eig(sy)\n",
    "\n",
    "sz=np.array([[1,0],[0,-1]])\n",
    "ez=np.linalg.eig(sz)\n",
    "\n",
    "print(\"#1\")\n",
    "ex,ey,ez"
   ]
  },
  {
   "cell_type": "code",
   "execution_count": 59,
   "metadata": {
    "scrolled": true
   },
   "outputs": [
    {
     "data": {
      "text/plain": [
       "(array([3., 1.]),\n",
       " array([[ 0.70710678,  0.70710678],\n",
       "        [-0.70710678,  0.70710678]]))"
      ]
     },
     "execution_count": 59,
     "metadata": {},
     "output_type": "execute_result"
    }
   ],
   "source": [
    "M=np.array([[2,-1],[-1,2]])\n",
    "np.linalg.eig(M) # 위쪽이 고유값, 아래쪽이 고유벡터"
   ]
  },
  {
   "cell_type": "code",
   "execution_count": 62,
   "metadata": {},
   "outputs": [
    {
     "name": "stdout",
     "output_type": "stream",
     "text": [
      "#2\n",
      "아이겐밸류는 |M-lambda*E(단위행렬)|=0이 성립하게 만드는 lambda의 값이다.\n",
      "아이겐벡터는 각각의 lambda에 대응한 연립방정식 (M-lambda*E(단위행렬))X=0을 풀었을 때의 X이다.\n",
      "그리고 위에서 구한 고유벡터의 크기는 1이다.\n"
     ]
    }
   ],
   "source": [
    "print(\"#2\")\n",
    "print('아이겐밸류는 |M-lambda*E(단위행렬)|=0이 성립하게 만드는 lambda의 값이다.')\n",
    "print('아이겐벡터는 각각의 lambda에 대응한 연립방정식 (M-lambda*E(단위행렬))X=0을 풀었을 때의 X이다.')\n",
    "print(\"그리고 위에서 구한 고유벡터의 크기는 1이다.\")"
   ]
  },
  {
   "cell_type": "code",
   "execution_count": 61,
   "metadata": {},
   "outputs": [
    {
     "name": "stdout",
     "output_type": "stream",
     "text": [
      "lambda=1일 때 x1=-x2, lambda=3일 때 x1=x2\n"
     ]
    }
   ],
   "source": [
    "print('lambda=1일 때 x1=-x2, lambda=3일 때 x1=x2')"
   ]
  },
  {
   "cell_type": "code",
   "execution_count": null,
   "metadata": {},
   "outputs": [],
   "source": []
  }
 ],
 "metadata": {
  "kernelspec": {
   "display_name": "Python 3",
   "language": "python",
   "name": "python3"
  },
  "language_info": {
   "codemirror_mode": {
    "name": "ipython",
    "version": 3
   },
   "file_extension": ".py",
   "mimetype": "text/x-python",
   "name": "python",
   "nbconvert_exporter": "python",
   "pygments_lexer": "ipython3",
   "version": "3.8.5"
  }
 },
 "nbformat": 4,
 "nbformat_minor": 4
}
