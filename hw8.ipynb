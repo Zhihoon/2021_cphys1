{
 "cells": [
  {
   "cell_type": "code",
   "execution_count": 2,
   "metadata": {},
   "outputs": [
    {
     "name": "stdout",
     "output_type": "stream",
     "text": [
      "#1. Hypersphere\n",
      "3D의 부피 if r=1\n"
     ]
    },
    {
     "data": {
      "text/plain": [
       "4.1948"
      ]
     },
     "execution_count": 2,
     "metadata": {},
     "output_type": "execute_result"
    }
   ],
   "source": [
    "import random\n",
    "import numpy as np\n",
    "\n",
    "print(\"#1. Hypersphere\")\n",
    "print(\"3D의 부피 if r=1\")\n",
    "def s_sphere(n): #3D\n",
    "    count=0\n",
    "    for i in range(n):\n",
    "        x,y,z=random.random(), random.random(), random.random()\n",
    "        if x*x+y*y+z*z<1:\n",
    "            count+=1\n",
    "    return 2**3*count/n\n",
    "s_sphere(100000)"
   ]
  },
  {
   "cell_type": "code",
   "execution_count": 3,
   "metadata": {},
   "outputs": [
    {
     "name": "stdout",
     "output_type": "stream",
     "text": [
      "4D의 부피 if r=1\n"
     ]
    },
    {
     "data": {
      "text/plain": [
       "4.92944"
      ]
     },
     "execution_count": 3,
     "metadata": {},
     "output_type": "execute_result"
    }
   ],
   "source": [
    "print(\"4D의 부피 if r=1\")\n",
    "def s_hypersphere(n): #4D\n",
    "    count=0\n",
    "    for i in range(n):\n",
    "        x,y,z,u=random.random(), random.random(), random.random(), random.random()\n",
    "        if x*x+y*y+z*z+u*u<1:\n",
    "            count+=1\n",
    "    return 2**4*count/n\n",
    "s_hypersphere(100000)"
   ]
  },
  {
   "cell_type": "code",
   "execution_count": 4,
   "metadata": {},
   "outputs": [
    {
     "name": "stdout",
     "output_type": "stream",
     "text": [
      "5D의 부피 if r=1\n"
     ]
    },
    {
     "data": {
      "text/plain": [
       "5.22752"
      ]
     },
     "execution_count": 4,
     "metadata": {},
     "output_type": "execute_result"
    }
   ],
   "source": [
    "print(\"5D의 부피 if r=1\")\n",
    "def s_hypersphere(n): #5D\n",
    "    count=0\n",
    "    for i in range(n):\n",
    "        x,y,z,u,v=random.random(), random.random(), random.random(), random.random(), random.random() \n",
    "        if x*x+y*y+z*z+u*u+v*v<1:\n",
    "            count+=1\n",
    "    return 2**5*count/n\n",
    "s_hypersphere(100000)"
   ]
  },
  {
   "cell_type": "code",
   "execution_count": 11,
   "metadata": {},
   "outputs": [
    {
     "name": "stdout",
     "output_type": "stream",
     "text": [
      "n-D의 경우 변수가 n개이고, return의 분자 항의 경우 2**n*count로 해줘야 한다.\n",
      "따라서 3차원에는 8, 4차원에는 16, 5차원에는 32로 계산한다.\n"
     ]
    }
   ],
   "source": [
    "print(\"n-D의 경우 변수가 n개이고, return의 분자 항의 경우 2**n*count로 해줘야 한다.\")\n",
    "print(\"따라서 3차원에는 8, 4차원에는 16, 5차원에는 32로 계산한다.\")"
   ]
  },
  {
   "cell_type": "code",
   "execution_count": 12,
   "metadata": {},
   "outputs": [
    {
     "data": {
      "image/png": "[encoded data removed]",
      "text/plain": [
       "<Figure size 432x288 with 1 Axes>"
      ]
     },
     "metadata": {
      "needs_background": "light"
     },
     "output_type": "display_data"
    }
   ],
   "source": [
    "import random\n",
    "import numpy as np\n",
    "import matplotlib.pyplot as plt \n",
    "%matplotlib inline\n",
    "\n",
    "# N=1000, beta=1\n",
    "def aveE(b,n):\n",
    "    states = np.ones(n)\n",
    "    for t in range(n*100):\n",
    "        i=random.randint(0,n-1)\n",
    "        DE = -2*states[i]\n",
    "        if DE<0:\n",
    "            states[i]=-1*states[i] # change states +-1 -> -+1\n",
    "        elif random.random()<np.exp(-b*DE):\n",
    "            states[i]=-1*states[i]\n",
    "    return sum(states)\n",
    "y=[aveE(1/t,1000) for t in np.arange(1,20,2)]\n",
    "b=np.arange(1,20,0.1)\n",
    "th=-1000*np.tanh(1/b)\n",
    "\n",
    "plt.xlabel('temperature')\n",
    "plt.ylabel('<E>')\n",
    "plt.plot(temp,y)\n",
    "plt.plot(b,th);"
   ]
  },
  {
   "cell_type": "code",
   "execution_count": null,
   "metadata": {},
   "outputs": [],
   "source": []
  }
 ],
 "metadata": {
  "kernelspec": {
   "display_name": "Python 3",
   "language": "python",
   "name": "python3"
  },
  "language_info": {
   "codemirror_mode": {
    "name": "ipython",
    "version": 3
   },
   "file_extension": ".py",
   "mimetype": "text/x-python",
   "name": "python",
   "nbconvert_exporter": "python",
   "pygments_lexer": "ipython3",
   "version": "3.8.5"
  }
 },
 "nbformat": 4,
 "nbformat_minor": 4
}
